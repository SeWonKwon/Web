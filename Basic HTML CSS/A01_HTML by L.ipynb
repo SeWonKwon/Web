{
 "cells": [
  {
   "cell_type": "markdown",
   "metadata": {},
   "source": [
    "Let's get it!\n",
    "\n",
    "# 웹과 인터넷 개념\n",
    "\n",
    "## 인터넷(Internet)\n",
    "- 전 세계에 걸쳐 원거리 접속이나 파일 전송, 전자 메일 등의 데이터 통신 서비스를 받을 수 있는, 컴퓨\n",
    "터 네트워크의 시스템"
   ]
  },
  {
   "cell_type": "markdown",
   "metadata": {},
   "source": [
    "![image for web](https://t1.daumcdn.net/cfile/tistory/242B3E49559B871E1D)\n",
    "\n",
    "출처: https://the-brain-of-sic2.tistory.com/48"
   ]
  },
  {
   "cell_type": "markdown",
   "metadata": {},
   "source": [
    "### www(World Wide Web)\n",
    "* 하이퍼텍스트와 멀티미디어를 통해 서비스를 이용할 수 있도록 구축\n",
    "* 사용자끼리 정보를 공유할 수 있는 공간\n",
    "* 인터넷 상의 다양한 정보를 효과적우로 검색할 수 있는 시스템"
   ]
  },
  {
   "cell_type": "markdown",
   "metadata": {},
   "source": [
    "### HTTP 프로토콜(Protocol)\n",
    "* 요청(Request)과 응답(Response)의 형태로 이루어진 웹(Web) 통신 규약"
   ]
  },
  {
   "cell_type": "markdown",
   "metadata": {},
   "source": [
    "### 웹 서버와 클라이언트(Web Server & Client)\n",
    "* 웹 서버 : 클라이언트의 요청을 처리하여 응답함\n",
    "* 클라이언트 : 웹 서버에 원하는 정보를 요청함"
   ]
  },
  {
   "cell_type": "markdown",
   "metadata": {},
   "source": [
    "<img src='https://slid-capture.s3.ap-northeast-2.amazonaws.com/public/capture_images/024e4bc80c904265bb84fc92cf65f9a7/80ecb989-813c-44bb-93a6-a5e3eb5e9558.png' width = 500 align='left'/>"
   ]
  },
  {
   "cell_type": "markdown",
   "metadata": {},
   "source": [
    "### request & response\n",
    "\n",
    "1. 클라이언트가 웹 서버에 index.html 파일을 요청(request)\n",
    "2. 웹 서버는 index.html을 응답(response)하여 클라이언트에게 전송\n",
    "3. 클라이언트의 웹브라우저(Chrome, Microsoft Edge 등)는 index.html 파일을 해석하여 클라이언\n",
    "트에게 웹 페이지를 보여줌"
   ]
  },
  {
   "cell_type": "markdown",
   "metadata": {},
   "source": [
    "### 웹 페이지(Web Page)\n",
    "\n",
    "* 클라이언트가 웹 서버에 정보를 요청한 후, 서버에서 보낸 정보를 담고 있는 문서\n",
    "* 기본적으로 HTML로 작성됨\n",
    "I"
   ]
  },
  {
   "cell_type": "markdown",
   "metadata": {},
   "source": [
    "### 웹 브라우저(Web Browser)\n",
    "* HTML로 작성된 웹 페이지를 해석하여 사용자에게 보여줌\n",
    "* 일종의 컴파일러로 생각될 수 있으며, W3C에서 이에 대한 표준을 제공함\n",
    "* Chrome, Internet Explorer, Microsoft Edge, Firefox, Safari, Whale 등이 있음"
   ]
  },
  {
   "cell_type": "markdown",
   "metadata": {},
   "source": [
    "### W3C(World Wide Web Consortium)\n",
    "\n",
    "* www.w3.org\n",
    "* 여러 참여기관들이 협력하여 웹 표준을 개발하는 국제 컨소시엄\n",
    "* 웹의 프로토콜과 가이드라인 개발"
   ]
  },
  {
   "cell_type": "markdown",
   "metadata": {},
   "source": [
    "## 웹 프로그래밍(Web Programming)\n",
    "\n",
    "### 프론트 엔드(Front-End) 개발\n",
    "* 사용자와 직접 접촉하여 상호작용하는 실제 보여지는 웹 페이지를 개발\n",
    "HTML로 웹페이지의 뼈대를 구성\n",
    "* CSS로 웹페이지의 스타일을 구성\n",
    "* JavaScript로 사용자와 상호작용을 가능하게하여 동적인 웹 페이지 구성\n",
    "\n",
    "### 백 엔드(Back-End) 개발\n",
    "* 사용자에게 보이지 않는 실제 구성 시스템과 서버 사이드의 개발 (서버, 데이터베이스 등)\n",
    "* 주로 JAVA, Python, Ruby, PHP, SQL 등의 언어가 사용됨"
   ]
  },
  {
   "cell_type": "markdown",
   "metadata": {},
   "source": [
    "### 웹 프로그래밍 언어\n",
    "* 웹 페이지를 구성하기 위해 주로 HTML, CSS, JavaScript 언어를 사용"
   ]
  },
  {
   "cell_type": "markdown",
   "metadata": {},
   "source": [
    "<img src='https://slid-capture.s3.ap-northeast-2.amazonaws.com/public/capture_images/024e4bc80c904265bb84fc92cf65f9a7/70844288-0301-497b-ae9c-0a1d9757ccf7.png' width=500 align='left' />"
   ]
  },
  {
   "cell_type": "markdown",
   "metadata": {},
   "source": [
    "### HTML(Hyper Text Markup Language)\n",
    "* 웹 페이지를 작성하는 언어\n",
    "* Hyper Text : 링크가 달려있는 Text\n",
    "* Markup Language : 태그 기호 ( `<` ,`>`)등을 사용하여 문서나 데이터들 기술하는 언어"
   ]
  },
  {
   "cell_type": "markdown",
   "metadata": {},
   "source": [
    "#### HTML5 주요 기능\n",
    "\n",
    "* 멀티미디어: 플러그인 없이 음악과 동영상 재생 가능\n",
    "* 그래픽: 2차원 그래픽, 3차원 그래픽 구현\n",
    "* 통신: 서버와 실시간으로 쌍방향 통신\n",
    "* 장치: 장치와의 연동을 통해 접근 및 기능 사용\n",
    "* 오프라인: 인터넷 연결 없이도 응용 프로그램 동작 가능\n",
    "* 시맨틱: 정보를 분석, 자료를 검색 및 처리하여 제공하는 지능형 웹"
   ]
  },
  {
   "cell_type": "markdown",
   "metadata": {},
   "source": [
    "### CSS(Cascading Style Sheet)\n",
    "* 스타일 시트의 표준안이며 현재 CSS3가 사용됨\n",
    "* HTML로 웹 페이지의 뼈대를 구성하고, CSS로 스타일(디자인)을 구성함\n",
    "* 문서 작성과 디자인을 분리하여 효율적으로 웹페이지를 개발"
   ]
  },
  {
   "cell_type": "markdown",
   "metadata": {},
   "source": [
    "### 자바스크립트(JavaScript)\n",
    "* 사용자와의 상호작용을 통해 동적인 웹페이지를 구성하고자 고안된 언어\n",
    "* HTML이 웹페이지의 뼈대를 구성하고 CSS가 디자인을 담당하며, <br />\n",
    "    JavaScript는 사용자와 상호작용 및 웹페이지 제어를 담당\n",
    "* 객체 기반의 인터프리트 언어\n",
    "* 구조적 프로그래밍, 함수형 프로그래밍 지원"
   ]
  },
  {
   "cell_type": "markdown",
   "metadata": {},
   "source": [
    "# HTML 한 번에 끝내기\n",
    "\n",
    "\n",
    "HTML 개요와 구조 그리고 태그 사용 배우기\n",
    "\n",
    "\n",
    "\n",
    "\n",
    "\n",
    "## HTML 개요\n",
    "\n",
    "\n",
    "HTML은 웹 페이지의 뼈대를 구성하는 언어"
   ]
  },
  {
   "cell_type": "markdown",
   "metadata": {},
   "source": [
    "## HTML 문서 기본 구조"
   ]
  },
  {
   "cell_type": "code",
   "execution_count": null,
   "metadata": {
    "ExecuteTime": {
     "end_time": "2021-07-15T06:35:26.752433Z",
     "start_time": "2021-07-15T06:35:26.514Z"
    },
    "scrolled": true
   },
   "outputs": [],
   "source": [
    "from IPython.core.display import display, HTML\n",
    "display(HTML(\n",
    "    '''<!DOCTYPE html>\n",
    "        <html>\n",
    "            <head>\n",
    "                <title>HTML 문서 </title>\n",
    "            </head>\n",
    "            <body>\n",
    "                <h1>제목</h1>\n",
    "                <p> 단락</p>\n",
    "            </body>\n",
    "        </html>'''))"
   ]
  },
  {
   "cell_type": "markdown",
   "metadata": {},
   "source": [
    "* `<!DOCTYPE>` : 현재 문서의 HTML타입을 정의하며 HTML5 의 경우`<!DOCTYPE html>`로 명시함\n",
    "* `<html>` : HTML 문서의 시작과 끝을 표시\n",
    "* `<head>` : 웹 페이지 문서에 대한\n",
    "정보로 메타데이터(metadata)를\n",
    "정의\n",
    "    - `<style>`, `<meta>`, `<link>`, `<script>`, `<base>`, `<title>` 태그 등 정의\n",
    "    - `<title>` : HTML 문서 제목(title) 정의"
   ]
  },
  {
   "cell_type": "markdown",
   "metadata": {},
   "source": [
    "* `<body>` : 내부에 웹 페이지의 실제적인 내용(content)을 작성\n",
    "    - `<h1`>~`<h6>` : 제목(heading) 정의\n",
    "    - `<p>` : 단락(paragraph) 정의"
   ]
  },
  {
   "cell_type": "markdown",
   "metadata": {},
   "source": [
    "## HTML 문서 요소(Element)"
   ]
  },
  {
   "cell_type": "markdown",
   "metadata": {},
   "source": [
    "### 태그(Tag)"
   ]
  },
  {
   "cell_type": "markdown",
   "metadata": {},
   "source": [
    "```{HTML}\n",
    "<title>웹 페이지 제목</title>\n",
    "```"
   ]
  },
  {
   "cell_type": "markdown",
   "metadata": {},
   "source": [
    "• 기본적으로 태그(tag)는 시작 태그와 종료태그로 짝지어 구성\n",
    "- 시작 태그: `<title>`\n",
    "- 종료 태그: `</title>`"
   ]
  },
  {
   "cell_type": "markdown",
   "metadata": {},
   "source": [
    "```\n",
    "<p class=\"value\"> 단락</p>\n",
    "```"
   ]
  },
  {
   "cell_type": "markdown",
   "metadata": {},
   "source": [
    "<p class=\"value\"> 단락</p>"
   ]
  },
  {
   "cell_type": "markdown",
   "metadata": {},
   "source": [
    "* HTML 요소는 예러 속성을 가짐\n",
    "    - 태그 이름: `p`\n",
    "    - 속성명: `class`\n",
    "    - 속성값: `value`\n",
    "    - 내용: `단락`\n",
    "\n"
   ]
  },
  {
   "cell_type": "markdown",
   "metadata": {},
   "source": [
    "### 속성(Attributes)"
   ]
  },
  {
   "cell_type": "markdown",
   "metadata": {},
   "source": [
    "```\n",
    "<a href=\"링크주소\">링크</a>\n",
    "```"
   ]
  },
  {
   "cell_type": "markdown",
   "metadata": {},
   "source": [
    "<a href=\"링크주소\">링크</a>"
   ]
  },
  {
   "cell_type": "markdown",
   "metadata": {},
   "source": [
    "* 요소에 추가적인 정보 및 설정 적용\n",
    "* 속성 이름은 대소문자를 구분하지 않지만, 소문자를 권장\n",
    "* 시작 태그에 `속성이름 = \"값\"` 형태로 사용\n",
    "됨\n",
    "* `<a>` 태그에 `href` 속성으로 `링크주소` 의 값을 설정"
   ]
  },
  {
   "cell_type": "markdown",
   "metadata": {},
   "source": [
    "### HTML 주석(Comments)"
   ]
  },
  {
   "cell_type": "markdown",
   "metadata": {},
   "source": [
    "```\n",
    "<!-- 주석 -->\n",
    "```"
   ]
  },
  {
   "cell_type": "markdown",
   "metadata": {},
   "source": [
    "* 주석은 웹 브라우저가 해석하지않으며 사용자에게도 보여지지않음\n",
    "* 코드의 설명을 위해 작성"
   ]
  },
  {
   "cell_type": "markdown",
   "metadata": {},
   "source": [
    "## HTML 문서 작성 규칙"
   ]
  },
  {
   "cell_type": "markdown",
   "metadata": {},
   "source": [
    "### 공백처리"
   ]
  },
  {
   "cell_type": "markdown",
   "metadata": {},
   "source": [
    "```\n",
    "<!DOCTYPE html>\n",
    "<html>\n",
    "<title>공백 처리 예제</title>\n",
    "<body>\n",
    "   공            백\n",
    "   줄바꿈\n",
    "   줄바꿈\n",
    "</body>\n",
    "</html>\n",
    "```"
   ]
  },
  {
   "cell_type": "markdown",
   "metadata": {},
   "source": [
    "<!DOCTYPE html>\n",
    "<html>\n",
    "<title>공백 처리 예제</title>\n",
    "<body>\n",
    "    공            백\n",
    "    줄바꿈\n",
    "    줄바꿈\n",
    "</body>\n",
    "</html>"
   ]
  },
  {
   "cell_type": "markdown",
   "metadata": {},
   "source": [
    "* content 내의 연속된 공백 또는 줄 바꿈은 하나의 공백으로 처리\n",
    "* 여러 개의 공백이나 탭, 줄 바꿈등은 다른 특수문자를 사용하여 표현"
   ]
  },
  {
   "cell_type": "markdown",
   "metadata": {},
   "source": [
    "### 잘못된 태그 "
   ]
  },
  {
   "cell_type": "markdown",
   "metadata": {},
   "source": [
    "```\n",
    "<!DOCTYPE html>\n",
    "<html>\n",
    "<title>잘못된 태그 예제</title>\n",
    "<body>\n",
    "    <h> 잘못된\n",
    "    <p> 태그\n",
    "    </h>\n",
    "    </p>\n",
    "</body>\n",
    "</html>\n",
    "```"
   ]
  },
  {
   "cell_type": "markdown",
   "metadata": {},
   "source": [
    "<!DOCTYPE html>\n",
    "<html>\n",
    "<title>잘못된 태그 예제</title>\n",
    "<body>\n",
    "    <h> 잘못된\n",
    "    <p> 태그\n",
    "    </h>\n",
    "    </p>\n",
    "</body>\n",
    "</html>"
   ]
  },
  {
   "cell_type": "markdown",
   "metadata": {},
   "source": [
    "* 태그 이름은 대소문자를 구분하지 않으나 보통 소문자로 작성\n",
    "* 각 태그는 시작 태그와 종료 태그쌍이 서로 교차되면 안됨\n",
    "* 더 큰 문제는 오류가 나도 실행이 되고, 나중에 다시 찾는데 많은 시간이 소모됨"
   ]
  },
  {
   "cell_type": "markdown",
   "metadata": {},
   "source": [
    "### 들여쓰기로 포함관계 표현"
   ]
  },
  {
   "cell_type": "markdown",
   "metadata": {},
   "source": [
    "```\n",
    "<p></p>\n",
    "<p/>\n",
    "```"
   ]
  },
  {
   "cell_type": "markdown",
   "metadata": {},
   "source": [
    "* 태그는 시작 태그와 종료 태그를 함께 사용하며 태그의 내용이 공백이면 다음과 같이 사용가능\n",
    "\n",
    "* 태그는 포함관계를 들여쓰기를 통해 표시하여 작성"
   ]
  },
  {
   "cell_type": "markdown",
   "metadata": {},
   "source": [
    "## 텍스트 요소 태그"
   ]
  },
  {
   "cell_type": "markdown",
   "metadata": {},
   "source": [
    "### 제목 태그"
   ]
  },
  {
   "cell_type": "code",
   "execution_count": null,
   "metadata": {
    "ExecuteTime": {
     "end_time": "2021-07-15T06:35:26.753432Z",
     "start_time": "2021-07-15T06:35:26.675Z"
    }
   },
   "outputs": [],
   "source": [
    "html = '''\n",
    "<h1>Heading 1</h1>\n",
    "<h2>Heading 2</h2>\n",
    "<h3>Heading 3</h3>\n",
    "<h4>Heading 4</h4>\n",
    "<h5>Heading 5</h5>\n",
    "<h6>Heading 6</h6>'''\n",
    "\n",
    "display(HTML(html))"
   ]
  },
  {
   "cell_type": "markdown",
   "metadata": {},
   "source": [
    "* `<h>` 태그는 제목을 표시할 때 사용\n",
    "* `<h1>` 부터 `<h6>` 까지 단계별로 사용"
   ]
  },
  {
   "cell_type": "markdown",
   "metadata": {},
   "source": [
    "### 단락 태그\n",
    "\n",
    "\n",
    "```\n",
    "<p> 단락</p>\n",
    "```"
   ]
  },
  {
   "cell_type": "markdown",
   "metadata": {},
   "source": [
    "<p> 단락</p>"
   ]
  },
  {
   "cell_type": "markdown",
   "metadata": {},
   "source": [
    "* `<p>` 태그는 문단(paragraph)을\n",
    "나타낼 때 사용\n",
    "*  문단 전 후로 줄빈 줄이 추가됨"
   ]
  },
  {
   "cell_type": "markdown",
   "metadata": {},
   "source": [
    "### 줄 나누기 태그"
   ]
  },
  {
   "cell_type": "markdown",
   "metadata": {},
   "source": [
    "```\n",
    "<p>\n",
    "    줄 나누기<br>\n",
    "    줄 나누기<br>\n",
    "</p>\n",
    "```"
   ]
  },
  {
   "cell_type": "markdown",
   "metadata": {},
   "source": [
    "<p>\n",
    "    줄 나누기<br>\n",
    "    줄 나누기<br>\n",
    "</p>"
   ]
  },
  {
   "cell_type": "markdown",
   "metadata": {},
   "source": [
    "* `<br>` 태그는 강제로 줄 바꿈을할 때 사용하는 태그\n",
    "\n",
    "* 종료 태그가 없음"
   ]
  },
  {
   "cell_type": "markdown",
   "metadata": {},
   "source": [
    "### 미리 정의된 서식 태그"
   ]
  },
  {
   "cell_type": "markdown",
   "metadata": {},
   "source": [
    "```\n",
    "<pre>\n",
    "텍스트 서식\n",
    "서식을     그대로      출력\n",
    "서식    출력\n",
    "</pre>\n",
    "```"
   ]
  },
  {
   "cell_type": "markdown",
   "metadata": {},
   "source": [
    "<pre>\n",
    "텍스트 서식\n",
    "서식을     그대로      출력\n",
    "서식    출력\n",
    "</pre>"
   ]
  },
  {
   "cell_type": "markdown",
   "metadata": {},
   "source": [
    "* `<pre>` 태그는 preformatted text로 입력한 텍스트 그대로 화면에 표시할 때 사용하는 태그\n",
    "\n",
    "* 사용을 자제 해야 한다. 공통 서식 지정에 방해가 되기 때문에"
   ]
  },
  {
   "cell_type": "markdown",
   "metadata": {},
   "source": [
    "### 수평선 태그"
   ]
  },
  {
   "cell_type": "markdown",
   "metadata": {},
   "source": [
    "```\n",
    "<p> 단락</p>\n",
    "<hr>\n",
    "<p> 단락</p>\n",
    "<hr>\n",
    "<p> 단락</p>\n",
    "```"
   ]
  },
  {
   "cell_type": "markdown",
   "metadata": {},
   "source": [
    "* `<hr>`은 수평선을 표시하는 태그\n",
    "* `<br>`태그와 마찬가지로 단일 태그이다. "
   ]
  },
  {
   "cell_type": "markdown",
   "metadata": {},
   "source": [
    "## 텍스트 서식 태그\n"
   ]
  },
  {
   "cell_type": "markdown",
   "metadata": {},
   "source": [
    "|태그|설명|\n",
    "|:--|:--|\n",
    "|`<b> ~ </b>`|굵게(bold)|\n",
    "|`<i> ~ </i>`|이텔릭(italic)|\n",
    "|`<small> ~ <small>`|작게|\n",
    "|`<ins> ~ </ins>`|밑줄(insert)|\n",
    "|`<del> ~ </del>`|가운데 선|\n",
    "|`<mark> ~ </mark>`|하이라이트|\n",
    "|`<strong> ~ </strong>`|중요|\n",
    "|`<code> ~ </code>`|코드|\n",
    "|`<em> ~ </em>`|강조(emphasized text)|\n",
    "|`<sup> ~ </sup>`|위 첨자(superscript)|\n",
    "|`<sub> ~ </sub>`|아래 첨자(subscript)|"
   ]
  },
  {
   "cell_type": "markdown",
   "metadata": {},
   "source": [
    "```\n",
    "<b>굵게 </b>\n",
    "<i>이텔릭</i>\n",
    "<small>작게</small>\n",
    "<ins> 밀줄</ins>\n",
    "<del>가운데 선</del>\n",
    "<mark>하이라이트</mark>\n",
    "<strong></strong>\n",
    "<code>aE</code>\n",
    "<em>강조</em>\n",
    "<sup>위 첨자</sup>\n",
    "<sub> 아래 첨자</sub>\n",
    "```"
   ]
  },
  {
   "cell_type": "markdown",
   "metadata": {},
   "source": [
    "<b>굵게 </b>\n",
    "<i>이텔릭</i>\n",
    "<small>작게</small>\n",
    "<ins> 밀줄</ins>\n",
    "<del>가운데 선</del>\n",
    "<mark>하이라이트</mark>\n",
    "<strong></strong>\n",
    "<code>aE</code>\n",
    "<em>강조</em>\n",
    "<sup>위 첨자</sup>\n",
    "<sub> 아래 첨자</sub>"
   ]
  },
  {
   "cell_type": "markdown",
   "metadata": {},
   "source": [
    "### 인용 태그\n",
    "\n",
    "* 왜 인용 태그를 사용하는가? \n",
    "    - 의미를 부여 하기 위해서 \n",
    "    \n",
    "    "
   ]
  },
  {
   "cell_type": "markdown",
   "metadata": {},
   "source": [
    "## 인용구(quotation)\n",
    "짧은 인라인으로 사용"
   ]
  },
  {
   "cell_type": "markdown",
   "metadata": {},
   "source": [
    "```\n",
    "<q>인용구</q>\n",
    "```"
   ]
  },
  {
   "cell_type": "markdown",
   "metadata": {},
   "source": [
    "<q>인용구</q>"
   ]
  },
  {
   "cell_type": "markdown",
   "metadata": {},
   "source": [
    "### 블록 인용구(block quotation)\n",
    "다른 소스에서 인용되는 부분을 블록으로 정의"
   ]
  },
  {
   "cell_type": "markdown",
   "metadata": {},
   "source": [
    "```\n",
    "<blockquote>\n",
    "길이가 긴 인용구는 블록 인용구\n",
    "</blockquote>\n",
    "```"
   ]
  },
  {
   "cell_type": "markdown",
   "metadata": {},
   "source": [
    "<blockquote>\n",
    "길이가 긴 인용구는 블록 인용구\n",
    "</blockquote>"
   ]
  },
  {
   "cell_type": "markdown",
   "metadata": {},
   "source": [
    "### 약어(abbreviation)\n",
    "약어 정의"
   ]
  },
  {
   "cell_type": "markdown",
   "metadata": {},
   "source": [
    "```\n",
    "<abbr title=\"HyperText Markup Language\">HTML</abbr>\n",
    "```"
   ]
  },
  {
   "cell_type": "markdown",
   "metadata": {},
   "source": [
    "<abbr title=\"HyperText Markup Language\">HTML</abbr>"
   ]
  },
  {
   "cell_type": "markdown",
   "metadata": {},
   "source": [
    "`HTML의 약어는 \"HyperText Markup Language\" 입니다.`를 표시해줌\n",
    "- 말풍선으로 뜨게됨"
   ]
  },
  {
   "cell_type": "markdown",
   "metadata": {},
   "source": [
    "### 인용(citation)\n",
    "인용되는 작품, 특허, 논문 등등의 제목"
   ]
  },
  {
   "cell_type": "markdown",
   "metadata": {},
   "source": [
    "```\n",
    "<cite>The Matrix</cite>\n",
    "```"
   ]
  },
  {
   "cell_type": "markdown",
   "metadata": {},
   "source": [
    "<cite>The Matrix</cite>"
   ]
  },
  {
   "cell_type": "markdown",
   "metadata": {},
   "source": [
    "### 주소(address)\n",
    "문서 작성자/소유자 연락처 정의"
   ]
  },
  {
   "cell_type": "markdown",
   "metadata": {},
   "source": [
    "```\n",
    "<address>서울특별시 중구 명동 세종대로</address>\n",
    "```"
   ]
  },
  {
   "cell_type": "markdown",
   "metadata": {},
   "source": [
    "<address>서울특별시 중구 명동 세종대로</address>"
   ]
  },
  {
   "cell_type": "markdown",
   "metadata": {},
   "source": [
    "## 앵커 태그"
   ]
  },
  {
   "cell_type": "markdown",
   "metadata": {},
   "source": [
    "```\n",
    "<a href=\"www.google.com\" target=\"_blank\" > 구글 </a>\n",
    "```"
   ]
  },
  {
   "cell_type": "markdown",
   "metadata": {},
   "source": [
    "<a href=\"http://www.google.com\" target=\"_blank\" > 구글 </a>"
   ]
  },
  {
   "cell_type": "markdown",
   "metadata": {},
   "source": [
    "```\n",
    "<a href=\"#content1\">Content 1</a>\n",
    "<a href=\"#content2\">Content 2</a>\n",
    "<a href=\"#content3\">Content 3</a>\n",
    "<hr>\n",
    "<h1 id=\"content1\">Content 1</h1>\n",
    "<h1 id=\"content2\">Content 2</h1>\n",
    "<h1 id=\"content3\">Content 3</h1>\n",
    "```"
   ]
  },
  {
   "cell_type": "code",
   "execution_count": 2,
   "metadata": {
    "ExecuteTime": {
     "end_time": "2021-07-15T06:35:27.531606Z",
     "start_time": "2021-07-15T06:35:27.518610Z"
    },
    "scrolled": true
   },
   "outputs": [
    {
     "data": {
      "text/html": [
       "\n",
       "<a href=\"#content1\">Content 1</a>\n",
       "<a href=\"#content2\">Content 2</a>\n",
       "<a href=\"#content3\">Content 3</a>\n",
       "<hr>\n",
       "<h1 id=\"content1\">Content 1</h1>\n",
       "<h1 id=\"content2\">Content 2</h1>\n",
       "<h1 id=\"content3\">Content 3</h1>"
      ],
      "text/plain": [
       "<IPython.core.display.HTML object>"
      ]
     },
     "metadata": {},
     "output_type": "display_data"
    }
   ],
   "source": [
    "html = '''\n",
    "<a href=\"#content1\">Content 1</a>\n",
    "<a href=\"#content2\">Content 2</a>\n",
    "<a href=\"#content3\">Content 3</a>\n",
    "<hr>\n",
    "<h1 id=\"content1\">Content 1</h1>\n",
    "<h1 id=\"content2\">Content 2</h1>\n",
    "<h1 id=\"content3\">Content 3</h1>'''\n",
    "display(HTML(html))"
   ]
  },
  {
   "cell_type": "markdown",
   "metadata": {},
   "source": [
    "* `<a>` 는 다른 사이트로 통하는 링크나 같은 페이지의 다른 위치로 이동하는 링크를 만들 때 사용\n",
    "* `href` 속성에 값을 설정하여 이동할 곳 지정\n",
    "* `target` 속성을 통해 새로운 페이지가 열릴 곳을 지정\n",
    "    - `_blank` : 새로운 창\n",
    "    - `_self` : 현재 창\n",
    "    - `_parent` : 웹 브라우저 부모창\n",
    "    - `_top` : 웹 브라우저 전체 영역"
   ]
  },
  {
   "cell_type": "markdown",
   "metadata": {},
   "source": [
    "## 리스트 태그\n",
    "* `<ol>` 태그를 사용하여 전체 리스트 표현\n",
    "* `<li>` 태그를 사용하여 각 항목을 입력"
   ]
  },
  {
   "cell_type": "markdown",
   "metadata": {},
   "source": [
    "### 순서가 없는 리스트(unordered list)"
   ]
  },
  {
   "cell_type": "markdown",
   "metadata": {},
   "source": [
    "```\n",
    "<ul>\n",
    "    <li>HTML</li>\n",
    "    <li>CSS</li>\n",
    "    <li>Javascript</li>\n",
    "</ul>\n",
    "<ul style=\"list-style-type: circle\">\n",
    "    <li>HTML</li>\n",
    "    <li>CSS</li>\n",
    "    <li>JavaScript</li>\n",
    "</ul>\n",
    "<ul style=\"list-style-type: square\">\n",
    "    <li>HTML</li>\n",
    "    <li>CSS</li>\n",
    "    <li>JavaScript</li>\n",
    "</ul>\n",
    "\n",
    "```"
   ]
  },
  {
   "cell_type": "markdown",
   "metadata": {},
   "source": [
    "<ul>\n",
    "    <li>HTML</li>\n",
    "    <li>CSS</li>\n",
    "    <li>Javascript</li>\n",
    "</ul>\n",
    "<ul style=\"list-style-type: circle\">\n",
    "    <li>HTML</li>\n",
    "    <li>CSS</li>\n",
    "    <li>JavaScript</li>\n",
    "</ul>\n",
    "<ul style=\"list-style-type: square\">\n",
    "    <li>HTML</li>\n",
    "    <li>CSS</li>\n",
    "    <li>JavaScript</li>\n",
    "</ul>"
   ]
  },
  {
   "cell_type": "markdown",
   "metadata": {},
   "source": [
    "### 순서가 있는 리스트(ordered list)"
   ]
  },
  {
   "cell_type": "markdown",
   "metadata": {},
   "source": [
    "```\n",
    "<ol>\n",
    "    <li>HTML</li>\n",
    "    <li>CSS</li>\n",
    "    <li>JavaScript</li>\n",
    "</ol>\n",
    "<ol type=\"i\">\n",
    "    <li>HTML</li>\n",
    "    <li>CSS</li>\n",
    "    <li>JavaScript</li>\n",
    "</ol>\n",
    "<ol type=\"A\">\n",
    "    <li>HTML</li>\n",
    "    <li>CSS</li>\n",
    "    <li>JavaScript</li>\n",
    "</ol>\n",
    "<ol type=\"I\">\n",
    "    <li>HTML</li>\n",
    "    <li>CSS</li>\n",
    "    <li>JavaScript</li>\n",
    "</ol>\n",
    "<ol type=\"a\">\n",
    "    <li>HTML</li>\n",
    "    <li>CSS</li>\n",
    "    <li>JavaScript</li>\n",
    "</ol>\n",
    "\n",
    "```"
   ]
  },
  {
   "cell_type": "markdown",
   "metadata": {},
   "source": [
    "<ol>\n",
    "    <li>HTML</li>\n",
    "    <li>CSS</li>\n",
    "    <li>JavaScript</li>\n",
    "</ol>\n",
    "<ol type=\"i\">\n",
    "    <li>HTML</li>\n",
    "    <li>CSS</li>\n",
    "    <li>JavaScript</li>\n",
    "</ol>\n",
    "<ol type=\"A\">\n",
    "    <li>HTML</li>\n",
    "    <li>CSS</li>\n",
    "    <li>JavaScript</li>\n",
    "</ol>\n",
    "<ol type=\"I\">\n",
    "    <li>HTML</li>\n",
    "    <li>CSS</li>\n",
    "    <li>JavaScript</li>\n",
    "</ol>\n",
    "<ol type=\"a\">\n",
    "    <li>HTML</li>\n",
    "    <li>CSS</li>\n",
    "    <li>JavaScript</li>\n",
    "</ol>"
   ]
  },
  {
   "cell_type": "markdown",
   "metadata": {},
   "source": [
    "type 에 따라서 앞에 번호가 바껴야 하는데 바뀌지 않음 chekc! later~"
   ]
  },
  {
   "cell_type": "markdown",
   "metadata": {},
   "source": [
    "### 정의 리스트(definitionlist)"
   ]
  },
  {
   "cell_type": "markdown",
   "metadata": {},
   "source": [
    "```\n",
    "<dl>\n",
    "    <dt>HTML </dt>\n",
    "    <dd>웹 페이지를 위한 마크업 언어</dd>\n",
    "    <dt>CSS</dt>\n",
    "    <dd> 마크업 언어가 실제 표시되는 방법을 기술하는 언어 </dd>\n",
    "    <dt>Javascript</dt>\n",
    "    <dd>웹 브라우저 내에서 주로 사용</dd>\n",
    "</dl>\n",
    "```"
   ]
  },
  {
   "cell_type": "markdown",
   "metadata": {},
   "source": [
    "<dl>\n",
    "    <dt>HTML </dt>\n",
    "    <dd>웹 페이지를 위한 마크업 언어</dd>\n",
    "    <dt>CSS</dt>\n",
    "    <dd> 마크업 언어가 실제 표시되는 방법을 기술하는 언어 </dd>\n",
    "    <dt>Javascript</dt>\n",
    "    <dd>웹 브라우저 내에서 주로 사용</dd>\n",
    "</dl>"
   ]
  },
  {
   "cell_type": "markdown",
   "metadata": {},
   "source": [
    "* `<dl>` 태그를 사용하여 전체 리스트 표현\n",
    "* 각 항목은 `<dt>` 태그를 사용하며 각 설명은 `<dd>` 태그를 사용"
   ]
  },
  {
   "cell_type": "markdown",
   "metadata": {},
   "source": [
    "## 테이블 태그"
   ]
  },
  {
   "cell_type": "markdown",
   "metadata": {},
   "source": [
    "```\n",
    "<table border=\"1\">\n",
    "    <caption>테이블 1</caption>\n",
    "    <tr>\n",
    "      <th>이름</th>\n",
    "      <th>성별</th>\n",
    "    </tr>\n",
    "    <tr>\n",
    "       <td>이수안</td>\n",
    "       <td> 남자</td>\n",
    "    <tr>\n",
    "       <td>이소온</td>\n",
    "       <td>여자</td>\n",
    "    </tr>\n",
    "</table>\n",
    "```"
   ]
  },
  {
   "cell_type": "markdown",
   "metadata": {},
   "source": [
    "<table border=\"1\">\n",
    "    <caption>테이블 1</caption>\n",
    "    <tr>\n",
    "      <th>이름</th>\n",
    "      <th>성별</th>\n",
    "    </tr>\n",
    "    <tr>\n",
    "       <td>이수안</td>\n",
    "       <td> 남자</td>\n",
    "    <tr>\n",
    "       <td>이소온</td>\n",
    "       <td>여자</td>\n",
    "    </tr>\n",
    "</table>"
   ]
  },
  {
   "cell_type": "markdown",
   "metadata": {},
   "source": [
    "* `<table>`~`</table>` : 테이블 생성\n",
    "* `<tr>` ~ `</tr>` : 테이블의 행(row) 생성\n",
    "* `<th>` ~ `</th>` : 테이블의 헤드(head) 생성\n",
    "* `<td>` ~ `</td>` : 테이블의 열(column) 생성\n",
    "* `<caption>` ~ `</caption>` : 테이블의 캡션 설정\n",
    "* `<rowspan>` : 셀을 세로로 병합, 병합하고 싶은 행의 수를 설정\n",
    "* `<colspan>` : 셀을 가로로 병합, 병합하고 싶은 열의 수를 설정"
   ]
  },
  {
   "cell_type": "markdown",
   "metadata": {},
   "source": [
    "### 시간표 예제"
   ]
  },
  {
   "cell_type": "markdown",
   "metadata": {},
   "source": [
    "```\n",
    "<table border=\"1\">\n",
    "<caption>시간표</caption>\n",
    "<thead>\n",
    "<tr>\n",
    "<th rowspan=2>교시\n",
    "<th colspan=5>과목\n",
    "</tr>\n",
    "<tr>\n",
    "<th>월</th>\n",
    "<th>화</th>\n",
    "<th>수</th>\n",
    "<th>목</th>\n",
    "<th>금</th>\n",
    "</tr>\n",
    "</thead>\n",
    "<tbody>\n",
    "<tr>\n",
    "<td>1교시 </td>\n",
    "<td>컴퓨터개론</td>\n",
    "<td></td>\n",
    "<td></td>\n",
    "<td></td>\n",
    "<td>자바스크립트</td>\n",
    "</tr>\n",
    "<tr>\n",
    "<td>2교시</td>\n",
    "<td></td>\n",
    "<td>머신러닝</td>\n",
    "<td></td>\n",
    "<td>웹과인터넷</td>\n",
    "<td></td>\n",
    "</tr>\n",
    "<tr>\n",
    "<td>3교시</td>\n",
    "<td></td>\n",
    "<td></td>\n",
    "<td>프로그래밍</td>\n",
    "<td></td>\n",
    "<td></td>\n",
    "</tr>\n",
    "<tr>\n",
    "\n",
    "\n",
    "```"
   ]
  },
  {
   "cell_type": "markdown",
   "metadata": {},
   "source": [
    "<table border=\"1\">\n",
    "<caption>시간표</caption>\n",
    "<thead>\n",
    "<tr>\n",
    "<th rowspan=2>교시\n",
    "<th colspan=5>과목\n",
    "</tr>\n",
    "<tr>\n",
    "<th>월</th>\n",
    "<th>화</th>\n",
    "<th>수</th>\n",
    "<th>목</th>\n",
    "<th>금</th>\n",
    "</tr>\n",
    "</thead>\n",
    "<tbody>\n",
    "<tr>\n",
    "<td>1교시 </td>\n",
    "<td>컴퓨터개론</td>\n",
    "<td></td>\n",
    "<td></td>\n",
    "<td></td>\n",
    "<td>자바스크립트</td>\n",
    "</tr>\n",
    "<tr>\n",
    "<td>2교시</td>\n",
    "<td></td>\n",
    "<td>머신러닝</td>\n",
    "<td></td>\n",
    "<td>웹과인터넷</td>\n",
    "<td></td>\n",
    "</tr>\n",
    "<tr>\n",
    "<td>3교시</td>\n",
    "<td></td>\n",
    "<td></td>\n",
    "<td>프로그래밍</td>\n",
    "<td></td>\n",
    "<td></td>\n",
    "</tr>\n",
    "<tr>"
   ]
  },
  {
   "cell_type": "markdown",
   "metadata": {},
   "source": [
    "## 멀티미디어 태그\n",
    "\n",
    "### 이미지 태그\n",
    "이미지 삽입을 위해 사용"
   ]
  },
  {
   "cell_type": "markdown",
   "metadata": {},
   "source": [
    "```\n",
    "<img src=\"source\" alt=\"강아지 사진\" width=\"200\" height=\"100\" border=1></img>\n",
    "```"
   ]
  },
  {
   "cell_type": "markdown",
   "metadata": {},
   "source": [
    "<img src=\"http://image.dongascience.com/Photo/2018/01/15159739972169[1].jpg\" alt=\"강아지 사진\" width=\"200\" height=\"100\" border=1></img>\n",
    "http://image.dongascience.com/Photo/2018/01/15159739972169[1].jpg"
   ]
  },
  {
   "cell_type": "markdown",
   "metadata": {},
   "source": [
    "* 속성\n",
    "- `src` : 이미지 파일 경로\n",
    "- `title` : 이미지 제목\n",
    "- `width` : 이미지 가로 크기\n",
    "- `height` : 이미지 세로 크기\n",
    "- `alt` : 이미지 대체 텍스트(이미지가 없을시)\n",
    "- `style` : 이미지 스타일 정의\n",
    "- `border` : 테두리"
   ]
  },
  {
   "cell_type": "markdown",
   "metadata": {},
   "source": [
    "### 오디오 태그\n",
    "오디오를 삽입할 때 사용하는 태그"
   ]
  },
  {
   "cell_type": "markdown",
   "metadata": {},
   "source": [
    "```\n",
    "<audio src=\"audio.mp3\" controls autoplay preload></audio>\n",
    "```"
   ]
  },
  {
   "cell_type": "markdown",
   "metadata": {},
   "source": [
    "<audio src=\"//www.google.com/logos/fnbx/animal_sounds/dog.mp3\" controls autoplay preload></audio>"
   ]
  },
  {
   "cell_type": "markdown",
   "metadata": {},
   "source": [
    "* 속성\n",
    "    - `src` : 오디오 파일의 경로\n",
    "    - `controls` : 오디오 파일의 재생 제어기 표시\n",
    "    - `autoplay` : 자동 재생\n",
    "    - `loop` : 반복 재생\n",
    "    - `muted` : 초기에 음소거 상태\n",
    "    - `preload` : 오디오 파일 미리 다운로드"
   ]
  },
  {
   "cell_type": "markdown",
   "metadata": {},
   "source": [
    "[![이수안 웹 image](https://slid-capture.s3.ap-northeast-2.amazonaws.com/public/capture_images/024e4bc80c904265bb84fc92cf65f9a7/8120f244-f90e-4a2c-ba1a-fddf58294caa.png)](https://slid.cc/vdocs/024e4bc80c904265bb84fc92cf65f9a7?v=fe76c70e649c4a35a57c7efaf388edf4&start=3584.617004059128)"
   ]
  },
  {
   "cell_type": "markdown",
   "metadata": {},
   "source": [
    "```"
   ]
  },
  {
   "cell_type": "markdown",
   "metadata": {},
   "source": [
    "## 비디오 태그\n",
    "비디오를 삽입할 때 사용하는 태그"
   ]
  },
  {
   "cell_type": "markdown",
   "metadata": {},
   "source": [
    "```\n",
    "<video src=\"video.mp4\" controls width='500' height='400' ></video>\n",
    "\n",
    "```"
   ]
  },
  {
   "cell_type": "markdown",
   "metadata": {},
   "source": [
    "<video src=\"https://youtu.be/ZnPor-lZrUc\" controls width='500' height='400' ></video>"
   ]
  },
  {
   "cell_type": "markdown",
   "metadata": {},
   "source": [
    "* 속성\n",
    "- `src` : 비디오 파일의 경로\n",
    "- `controls` : 비디오 파일의 재생 제어기 표시\n",
    "- `autoplay` : 자동 재생\n",
    "- `width` : 비디오의 가로크기\n",
    "- `height` : 비디오의 세로크기\n",
    "- `loop` : 반복 재생\n",
    "- `muted` : 초기에 음소거 상태\n",
    "- `preload` : 비디오 파일 미리 다운로드\n",
    "- `poster` : 비디오의 썸네일"
   ]
  },
  {
   "cell_type": "markdown",
   "metadata": {},
   "source": [
    "## 공간분할 태그"
   ]
  },
  {
   "cell_type": "markdown",
   "metadata": {},
   "source": [
    "### 블록 분할 태그"
   ]
  },
  {
   "cell_type": "markdown",
   "metadata": {},
   "source": [
    "```\n",
    "<div style=\"border: 1px solid black\">Block</div>\n",
    "```"
   ]
  },
  {
   "cell_type": "markdown",
   "metadata": {},
   "source": [
    "<div style=\"border: 1px solid black\">Block</div>"
   ]
  },
  {
   "cell_type": "markdown",
   "metadata": {},
   "source": [
    "* `<div>` 태그를 이용해 웹 문서의 전체 공간을 block 형식으로 분할함"
   ]
  },
  {
   "cell_type": "markdown",
   "metadata": {},
   "source": [
    "### 인라인 분할 태그"
   ]
  },
  {
   "cell_type": "markdown",
   "metadata": {},
   "source": [
    "```\n",
    "<span style=\"background-color: aqua\">Inline</ span>\n",
    "```"
   ]
  },
  {
   "cell_type": "markdown",
   "metadata": {},
   "source": [
    "<span style=\"background-color: aqua\">Inline</span>"
   ]
  },
  {
   "cell_type": "markdown",
   "metadata": {},
   "source": [
    "* `<span>` 태그를 이용해 웹 문서의 한 줄에 대해서 inline 형식으로 분할함"
   ]
  },
  {
   "cell_type": "markdown",
   "metadata": {},
   "source": [
    "### 아이프레임 태그"
   ]
  },
  {
   "cell_type": "markdown",
   "metadata": {},
   "source": [
    "```\n",
    "<iframe src=\"basic.html\" name=\"iframe_a\" height=\"500px\" width=\"400px\" title=\"IFrame Example\"></iframe>\n",
    "<p><a href=\"http://www.suanlab.com\" target=\"iframe_a\">SuanLab.com</a></p>\n",
    "```"
   ]
  },
  {
   "cell_type": "markdown",
   "metadata": {},
   "source": [
    "* `<iframe>` 태그를 이용해 웹 문서 내에 다른웹 문서를 표시할 때 사용\n",
    "* `src` : 포함할 페이지의 URL 정의\n",
    "* `width` : 너비\n",
    "* `height` : 높이\n",
    "* `title` : 아이프레임 제목\n",
    "* `name` : 링크 대상 이름\n",
    "* `scrolling` : 스크롤바"
   ]
  },
  {
   "cell_type": "markdown",
   "metadata": {},
   "source": [
    "<iframe src=\"test.html\" name=\"iframe_a\" height=\"100px\" width=\"100px\" title=\"IFrame Example\"></iframe>\n",
    "<p><a href=\"http://www.suanlab.com\" target=\"iframe_a\">SuanLab.com</a></p>"
   ]
  },
  {
   "cell_type": "markdown",
   "metadata": {},
   "source": [
    "## 입력 양식 태그\n",
    "### 폼 태그\n",
    "웹에서 폼을 만드는 데 사용"
   ]
  },
  {
   "cell_type": "markdown",
   "metadata": {},
   "source": [
    "```\n",
    "<form name=\"이름\" action=\"sign.jsp\" method=\"post\">\n",
    "    <input type=\"text\" name=\"name1\" value=\"input\" >\n",
    "</form>\n",
    "```"
   ]
  },
  {
   "cell_type": "markdown",
   "metadata": {},
   "source": [
    "<form name=\"이름\" action=\"sign.jsp\" method=\"post\">\n",
    "    <input type=\"text\" name=\"name1\" value=\"input\" >\n",
    "</form>"
   ]
  },
  {
   "cell_type": "markdown",
   "metadata": {},
   "source": [
    "* 속성\n",
    "    - `name` : form 이름\n",
    "    - `action` : 입력 데이터를 처리하는 웹 프로그램(JSP, PHP등)\n",
    "    - `method` : 전송 방식\n",
    "    - `type` : 입력 양식 모양"
   ]
  },
  {
   "cell_type": "markdown",
   "metadata": {},
   "source": [
    "* `method` 속성: 입력양식의 `method` 속성에는 입력한 데이터의 전송방식(GET/POST) 설정\n",
    "    - `GET` 방식\n",
    "        - URL의 뒷부분에 파라미터를 추가하여 데이터를 전달함\n",
    "        - URL에 어떤 데이터가 전송되는지 표현되어 있으므로 보안에 취약 (검색등에 사용)\n",
    "        - 최대 글자 수: 2048\n",
    "    * `POST` 방식\n",
    "        - HTTP Request 헤더에 파라미터를 추가하여 데이터 전송\n",
    "        - 어떤 데이터가 전송되는지 표면상에 보이지 않기 때문에 GET 방식보다보안성이 높음 (로그인 등)\n",
    "        - 글자 수 제한 없음\n",
    "    "
   ]
  },
  {
   "cell_type": "markdown",
   "metadata": {},
   "source": [
    "### 폼 요소\n",
    "입력 양식 폼에서 사용되는 다양한 요소"
   ]
  },
  {
   "cell_type": "markdown",
   "metadata": {},
   "source": [
    "#### 폼 관련 태그\n",
    "|태그|설명|\n",
    "|:-|:-|\n",
    "|`<input>`|입력 제이|\n",
    "|`<textarea>`|여러줄의 입력|\n",
    "|`<label>`|`<input>` 요소의 라벨|\n",
    "|`<fieldset>`|폼에 관련 요소|\n",
    "|`<legend>`|`<fieldset>` 요소의 캡션|\n",
    "|`<select>`|드롬다운 리스트|\n",
    "|`<optgroup>`|드롭다운 목록에서 관련 옵션 그룹|\n",
    "|`<option>`|드롬다운 목록에서 옵션|\n",
    "|`<button>`|버튼|\n",
    "|`<datalist>`|입력 제어에 대해 미리 징의된 옵션 리스트|\n",
    "|`<output>`|계산 결과|"
   ]
  },
  {
   "cell_type": "markdown",
   "metadata": {},
   "source": [
    "`<input>`"
   ]
  },
  {
   "cell_type": "markdown",
   "metadata": {},
   "source": [
    "```\n",
    "<label for=\"name\">이름:</label>\n",
    "<imput type='text' id='name' name=\"name\" value=\"suan\" size=\"20\">\n",
    "```"
   ]
  },
  {
   "cell_type": "markdown",
   "metadata": {},
   "source": [
    "<label for=\"name\">이름:</label>\n",
    "<imput type='text' id='name' name=\"name\" value=\"suan\" size=\"20\">"
   ]
  },
  {
   "cell_type": "markdown",
   "metadata": {},
   "source": [
    "`<select>`"
   ]
  },
  {
   "cell_type": "markdown",
   "metadata": {},
   "source": [
    "```\n",
    "<select id=\"food\" name=\"food\">\n",
    "    <option value=\"pizaa\" selected>피자</option>\n",
    "    <option value=\"hamburger\">햄버거</option>\n",
    "    <option value=\"pasta\">파스타</option>\n",
    "</select>\n",
    "```"
   ]
  },
  {
   "cell_type": "markdown",
   "metadata": {},
   "source": [
    "<select id=\"food\" name=\"food\">\n",
    "    <option value=\"pizaa\" selected>피자</option>\n",
    "    <option value=\"hamburger\">햄버거</option>\n",
    "    <option value=\"pasta\">파스타</option>\n",
    "</select>"
   ]
  },
  {
   "cell_type": "markdown",
   "metadata": {},
   "source": [
    "`<select>` 다중선택 multiple 속성"
   ]
  },
  {
   "cell_type": "markdown",
   "metadata": {},
   "source": [
    "```\n",
    "<select id=\"food\" name=\"food\" multiple>\n",
    "    <option value=\"pizaa\" selected>피자</option>\n",
    "    <option value=\"hamburger\" selected>햄버거</option>\n",
    "    <option value=\"pasta\" selected>파스타</option>\n",
    "</select>\n",
    "```"
   ]
  },
  {
   "cell_type": "markdown",
   "metadata": {},
   "source": [
    "<select id=\"food\" name=\"food\" multiple>\n",
    "    <option value=\"pizaa\" selected>피자</option>\n",
    "    <option value=\"hamburger\" selected>햄버거</option>\n",
    "    <option value=\"pasta\" selected>파스타</option>\n",
    "</select>"
   ]
  },
  {
   "cell_type": "markdown",
   "metadata": {},
   "source": [
    "`<select>` 태그 (그룹) `<optgroup > <option></option> </optgroup>`"
   ]
  },
  {
   "cell_type": "markdown",
   "metadata": {},
   "source": [
    "```\n",
    "<select id=\"food\" name=\"food\" multiple>\n",
    "  <optgroup label=\"음식\">\n",
    "    <option value=\"pizaa\" selected>피자</option>\n",
    "    <option value=\"hamburger\" selected>햄버거</option>\n",
    "    <option value=\"pasta\" selected>파스타</option>\n",
    "  </optgroup>\n",
    "</select>\n",
    "```"
   ]
  },
  {
   "cell_type": "markdown",
   "metadata": {},
   "source": [
    "<select id=\"food\" name=\"food\" multiple>\n",
    "  <optgroup label=\"음식\">\n",
    "    <option value=\"pizaa\" selected>피자</option>\n",
    "    <option value=\"hamburger\" selected>햄버거</option>\n",
    "    <option value=\"pasta\" selected>파스타</option>\n",
    "  </optgroup>\n",
    "</select>"
   ]
  },
  {
   "cell_type": "markdown",
   "metadata": {},
   "source": [
    "`<textarea>` 태그 rows, cols 로 사이즈 조정"
   ]
  },
  {
   "cell_type": "markdown",
   "metadata": {},
   "source": [
    "```\n",
    "<textarea name=\"article\" rows=\"5\" cols=\"30\">\n",
    "    텍스트\n",
    "</textarea>```"
   ]
  },
  {
   "cell_type": "markdown",
   "metadata": {},
   "source": [
    "<textarea name=\"article\" rows=\"5\" cols=\"30\">\n",
    "    텍스트\n",
    "</textarea>"
   ]
  },
  {
   "cell_type": "markdown",
   "metadata": {},
   "source": [
    "`<button>` 태그"
   ]
  },
  {
   "cell_type": "markdown",
   "metadata": {},
   "source": [
    "```\n",
    "<button type=\"button\">Button</button>```"
   ]
  },
  {
   "cell_type": "markdown",
   "metadata": {},
   "source": [
    "<button type=\"button\">Button</button>"
   ]
  },
  {
   "cell_type": "markdown",
   "metadata": {},
   "source": [
    "`<fieldset>`, `<legend>` 태그"
   ]
  },
  {
   "cell_type": "markdown",
   "metadata": {},
   "source": [
    "```\n",
    "<fieldset>\n",
    "    <legend>개인정보</legend>\n",
    "    <label for=\"name\">이름: </label><br />\n",
    "    <input type=\"text\" id=\"name\" name=\"name\" value=\"CodeChef\"><br />\n",
    "    <label type=\"text\" id=\"affiliation\" name=\"affiliation\" value=\"NeverTrusT\"><br /> <br />\n",
    "    <input type=\"submin\" value=\"전송\">\n",
    "</fieldset>\n",
    "```"
   ]
  },
  {
   "cell_type": "markdown",
   "metadata": {},
   "source": [
    "<fieldset>\n",
    "    <legend>개인정보</legend>\n",
    "    <label for=\"name\">이름: </label><br />\n",
    "    <input type=\"text\" id=\"name\" name=\"name\" value=\"CodeChef\"><br />\n",
    "    <label type=\"text\" id=\"affiliation\" name=\"affiliation\" value=\"NeverTrusT\"><br /> <br />\n",
    "    <input type=\"submin\" value=\"전송\">\n",
    "</fieldset>\n",
    "    "
   ]
  },
  {
   "cell_type": "markdown",
   "metadata": {},
   "source": [
    "<datalist> 태그 자동완성해줌"
   ]
  },
  {
   "cell_type": "markdown",
   "metadata": {},
   "source": [
    "\n",
    "`<datalist>` 태그"
   ]
  },
  {
   "cell_type": "markdown",
   "metadata": {},
   "source": [
    "```\n",
    "<form>\n",
    "    <input list=\"browsers\">\n",
    "    <datalist id=\"browsers\">\n",
    "        <option value=\"Chrome\"> </option>\n",
    "        <option value=\"Firefox\"> </option>\n",
    "        <option value=\"Internet Explorer\"></option> \n",
    "        <option value=\"Opera\"> </option>\n",
    "        <option value=\"Safari\"> </option>\n",
    "    </datalist>\n",
    "</form>\n",
    "```"
   ]
  },
  {
   "cell_type": "markdown",
   "metadata": {},
   "source": [
    "<form>\n",
    "    <input list=\"browsers\">\n",
    "    <datalist id=\"browsers\">\n",
    "        <option value=\"Chrome\"> </option>\n",
    "        <option value=\"Firefox\"> </option>\n",
    "        <option value=\"Internet Explorer\"></option> \n",
    "        <option value=\"Opera\"> </option>\n",
    "        <option value=\"Safari\"> </option>\n",
    "    </datalist>\n",
    "</form>"
   ]
  },
  {
   "cell_type": "markdown",
   "metadata": {},
   "source": [
    "`<output>` 태그"
   ]
  },
  {
   "cell_type": "markdown",
   "metadata": {},
   "source": [
    "```\n",
    "<form oninput=\"r.value=pasreInt(x.value) * parseInt(y.value)\">\n",
    "    <input type=\"number\" id=\"x\" name=\"x\" value=\"10\">\n",
    "    *\n",
    "    <input type=\"number\" id=\"y\" name=\"y\" value=\"20\">\n",
    "    =\n",
    "    <output name=\"r\" for=\"x y\"></output>\n",
    "    <br /><br />\n",
    "    <input type=\"submin\">\n",
    "</form>\n",
    "```"
   ]
  },
  {
   "cell_type": "markdown",
   "metadata": {},
   "source": [
    "<form oninput=\"r.value=pasreInt(x.value) * parseInt(y.value)\">\n",
    "    <input type=\"number\" id=\"x\" name=\"x\" value=\"10\">\n",
    "    *\n",
    "    <input type=\"number\" id=\"y\" name=\"y\" value=\"20\">\n",
    "    =\n",
    "    <output name=\"r\" for=\"x y\"></output>\n",
    "    <br /><br />\n",
    "    <input type=\"submin\">\n",
    "</form>"
   ]
  },
  {
   "cell_type": "markdown",
   "metadata": {},
   "source": [
    "#### 입력 형식"
   ]
  },
  {
   "cell_type": "markdown",
   "metadata": {},
   "source": [
    "* `<input>` 태그를 `<form>` ~ `</form>` 내부에서 사용되며, `type` 속성에 데이터 입력 양식 지정\n",
    "* 주요 공통 속성"
   ]
  },
  {
   "cell_type": "markdown",
   "metadata": {},
   "source": [
    "* 주요 공통 속성\n",
    "    - `readonly` : 읽기 전용\n",
    "    - `disabled` : 비활성화\n",
    "    - `autocomplete` : 자동완성\n",
    "    - `autofocus` : 웹 페이지 로드시 초기에 포커싱 설정\n",
    "    - `placeholder` : 입력 폼에 희미하게 설명을 보여줌\n",
    "    - `required` : 필수 속성\n",
    "    - `spellcheck` : 오타 점검"
   ]
  },
  {
   "cell_type": "markdown",
   "metadata": {},
   "source": [
    "###### text 타입"
   ]
  },
  {
   "cell_type": "markdown",
   "metadata": {},
   "source": [
    "```\n",
    "<input type=\"text\" name=\"text\" size=\"20\">\n",
    "```"
   ]
  },
  {
   "cell_type": "markdown",
   "metadata": {},
   "source": [
    "<input type=\"text\" name=\"text\" size=\"20\">"
   ]
  },
  {
   "cell_type": "markdown",
   "metadata": {},
   "source": [
    "###### password 타입"
   ]
  },
  {
   "cell_type": "markdown",
   "metadata": {},
   "source": [
    "```\n",
    "<input type=\"password\" name=\"password\" required>\n",
    "```"
   ]
  },
  {
   "cell_type": "markdown",
   "metadata": {},
   "source": [
    "<input type=\"password\" name=\"password\" required>"
   ]
  },
  {
   "cell_type": "markdown",
   "metadata": {},
   "source": [
    "###### button타입"
   ]
  },
  {
   "cell_type": "markdown",
   "metadata": {},
   "source": [
    "```\n",
    "<input type=\"button\" value=\"Button\">\n",
    "```"
   ]
  },
  {
   "cell_type": "markdown",
   "metadata": {},
   "source": [
    "<input type=\"button\" value=\"Button\">"
   ]
  },
  {
   "cell_type": "markdown",
   "metadata": {},
   "source": [
    "###### radio 타입"
   ]
  },
  {
   "cell_type": "markdown",
   "metadata": {},
   "source": [
    "* 여러 개의 항목 중에서 하나를 선택할 때 사용"
   ]
  },
  {
   "cell_type": "markdown",
   "metadata": {},
   "source": [
    "```\n",
    "<input type=\"radio\" name=\"gender\" value=\"male\">남자\n",
    "<input type=\"radio\" name=\"gender\" value=\"female\">여자\n",
    "```"
   ]
  },
  {
   "cell_type": "markdown",
   "metadata": {},
   "source": [
    "<input type=\"radio\" name=\"gender\" value=\"male\">남자\n",
    "<input type=\"radio\" name=\"gender\" value=\"female\">여자"
   ]
  },
  {
   "cell_type": "markdown",
   "metadata": {},
   "source": [
    "###### checkbox 타입\n",
    "\n",
    "\n",
    "여러 개의 항목 중에서 여러개를 선택할 때 사용"
   ]
  },
  {
   "cell_type": "markdown",
   "metadata": {},
   "source": [
    "```\n",
    "<input type=\"checkbox\" name=\"food\" value=\"pizza\">피자<br>\n",
    "<input type=\"checkbox\" name=\"food\" value=\"hamburger\">햄버거<br>\n",
    "<input type=\"checkbox\" name=\"food\" value=\"pasta\">파스타<br>\n",
    "```"
   ]
  },
  {
   "cell_type": "markdown",
   "metadata": {},
   "source": [
    "<input type=\"checkbox\" name=\"food\" value=\"pizza\">피자<br>\n",
    "<input type=\"checkbox\" name=\"food\" value=\"hamburger\">햄버거<br>\n",
    "<input type=\"checkbox\" name=\"food\" value=\"pasta\">파스타<br>"
   ]
  },
  {
   "cell_type": "markdown",
   "metadata": {},
   "source": [
    "###### date 타입"
   ]
  },
  {
   "cell_type": "markdown",
   "metadata": {},
   "source": [
    "날짜를 입력할때 사용 min과 max를 지정 가능"
   ]
  },
  {
   "cell_type": "markdown",
   "metadata": {},
   "source": [
    "```\n",
    "<input type=\"date\" name=\"date\" min=\"2020-01-01\" max=\"2020-12-31\">\n",
    "```"
   ]
  },
  {
   "cell_type": "markdown",
   "metadata": {},
   "source": [
    "<input type=\"date\" name=\"date\" min=\"2020-01-01\" max=\"2020-12-31\">"
   ]
  },
  {
   "cell_type": "markdown",
   "metadata": {},
   "source": [
    "###### month 타입"
   ]
  },
  {
   "cell_type": "markdown",
   "metadata": {},
   "source": [
    "월과 년도를 입력할 때 사용"
   ]
  },
  {
   "cell_type": "markdown",
   "metadata": {},
   "source": [
    "```\n",
    "<input type=\"month\" id=\"month\" name=\"month\">\n",
    "```"
   ]
  },
  {
   "cell_type": "markdown",
   "metadata": {},
   "source": [
    "<input type=\"month\" id=\"month\" name=\"month\">"
   ]
  },
  {
   "cell_type": "markdown",
   "metadata": {},
   "source": [
    "###### week 타입\n",
    "\n",
    "\n",
    "주를 입력할 때 사용"
   ]
  },
  {
   "cell_type": "markdown",
   "metadata": {},
   "source": [
    "```\n",
    "<input type=\"week\" id=\"week\" name=\"week\">\n",
    "```"
   ]
  },
  {
   "cell_type": "markdown",
   "metadata": {},
   "source": [
    "<input type=\"week\" id=\"week\" name=\"week\">"
   ]
  },
  {
   "cell_type": "markdown",
   "metadata": {},
   "source": [
    "###### time 타입\n",
    "\n",
    "\n",
    "시간을 입력할 때 사용"
   ]
  },
  {
   "cell_type": "markdown",
   "metadata": {},
   "source": [
    "```\n",
    "<input type=\"time\" id=\"time\" name=\"time\">\n",
    "```"
   ]
  },
  {
   "cell_type": "markdown",
   "metadata": {},
   "source": [
    "<input type=\"time\" id=\"time\" name=\"time\">"
   ]
  },
  {
   "cell_type": "markdown",
   "metadata": {},
   "source": [
    "###### datatime-local 타입\n",
    "\n",
    "\n",
    "날짜/시간을 입력할 때 사용"
   ]
  },
  {
   "cell_type": "markdown",
   "metadata": {},
   "source": [
    "```\n",
    "<input type=\"month\" id=\"month\" name=\"month\">\n",
    "```"
   ]
  },
  {
   "cell_type": "markdown",
   "metadata": {},
   "source": [
    "<input type=\"datetime-local\" id=\"datetime\" name=\"datetime\">"
   ]
  },
  {
   "cell_type": "markdown",
   "metadata": {},
   "source": [
    "###### color 타입\n",
    "\n",
    "\n",
    "색상을 선택할 때 사용"
   ]
  },
  {
   "cell_type": "markdown",
   "metadata": {},
   "source": [
    "<input type=\"color\" name=\"color\">"
   ]
  },
  {
   "cell_type": "markdown",
   "metadata": {},
   "source": [
    "```\n",
    "<input type=\"color\" name=\"color\">\n",
    "```"
   ]
  },
  {
   "cell_type": "markdown",
   "metadata": {},
   "source": [
    "###### number 타입\n",
    "\n",
    "\n",
    "숫자를 입력할 때 사용"
   ]
  },
  {
   "cell_type": "markdown",
   "metadata": {},
   "source": [
    "```\n",
    "<input type=\"number\" name=\"num\" min=\"0\" max=\"1000\">\n",
    "```"
   ]
  },
  {
   "cell_type": "markdown",
   "metadata": {},
   "source": [
    " <input type=\"number\" name=\"num\" min=\"0\" max=\"1000\">"
   ]
  },
  {
   "cell_type": "markdown",
   "metadata": {},
   "source": [
    "###### range 타입\n",
    "\n",
    "\n",
    "범위를 지정할 때 사용"
   ]
  },
  {
   "cell_type": "markdown",
   "metadata": {},
   "source": [
    "```\n",
    "<input type=\"range\" name=\"point\" min=\"0\" max=\"100\">\n",
    "```"
   ]
  },
  {
   "cell_type": "markdown",
   "metadata": {},
   "source": [
    "<input type=\"range\" name=\"point\" min=\"0\" max=\"100\">"
   ]
  },
  {
   "cell_type": "markdown",
   "metadata": {},
   "source": [
    "###### email 타입\n",
    "\n",
    "\n",
    "email을 입력할 때 사용, 이메일 형식을 자동 체킹"
   ]
  },
  {
   "cell_type": "markdown",
   "metadata": {},
   "source": [
    "```\n",
    "<input type=\"email\" name=\"email\">\n",
    "```"
   ]
  },
  {
   "cell_type": "markdown",
   "metadata": {},
   "source": [
    "<input type=\"email\" name=\"email\">"
   ]
  },
  {
   "cell_type": "markdown",
   "metadata": {},
   "source": [
    "###### url 타입\n",
    "\n",
    "\n",
    "url 을 입력할때 사용"
   ]
  },
  {
   "cell_type": "markdown",
   "metadata": {},
   "source": [
    "```\n",
    "<input type=\"url\" name=\"myUrl\">\n",
    "```"
   ]
  },
  {
   "cell_type": "markdown",
   "metadata": {},
   "source": [
    "<input type=\"url\" name=\"myUrl\">"
   ]
  },
  {
   "cell_type": "markdown",
   "metadata": {},
   "source": [
    "###### tel 타입\n",
    "\n",
    "\n",
    "전화번호를 입력할때 사용"
   ]
  },
  {
   "cell_type": "markdown",
   "metadata": {},
   "source": [
    "```\n",
    "<input type=\"tel\"id=\"phone\" name=\"phone\" pattern=\"[0-9]{3}-[0-9]{4}-[0-9]{4}\">\n",
    "```"
   ]
  },
  {
   "cell_type": "markdown",
   "metadata": {},
   "source": [
    "<input type=\"tel\" id=\"phone\" name=\"phone\" pattern=\"[0-9]{3}-[0-9]{4}-[0-9]{4}\">"
   ]
  },
  {
   "cell_type": "markdown",
   "metadata": {},
   "source": [
    "010-3434-2342"
   ]
  },
  {
   "cell_type": "markdown",
   "metadata": {},
   "source": [
    "###### file 타입\n",
    "\n",
    "\n",
    "파일 선택에 사용"
   ]
  },
  {
   "cell_type": "markdown",
   "metadata": {},
   "source": [
    "```\n",
    "<input type=\"file\" id=\"myfile\" name=\"myfile\">\n",
    "```"
   ]
  },
  {
   "cell_type": "markdown",
   "metadata": {},
   "source": [
    "<input type=\"file\" id=\"myfile\" name=\"myfile\">"
   ]
  },
  {
   "cell_type": "markdown",
   "metadata": {},
   "source": [
    "###### submit과 reset 타입\n",
    "\n",
    "\n",
    "입력 양식의 전송과 초기화에 사용"
   ]
  },
  {
   "cell_type": "markdown",
   "metadata": {},
   "source": [
    "```\n",
    "<input  type=\"submit\"  value=\"전송\">      \n",
    "```"
   ]
  },
  {
   "cell_type": "markdown",
   "metadata": {},
   "source": [
    "<input  type=\"submit\"  value=\"전송\">                          "
   ]
  },
  {
   "cell_type": "markdown",
   "metadata": {},
   "source": [
    "```\n",
    "<input type=\"reset\" value=\"초기화\">\n",
    "```"
   ]
  },
  {
   "cell_type": "markdown",
   "metadata": {},
   "source": [
    "<input type=\"reset\" value=\"초기화\">"
   ]
  },
  {
   "cell_type": "markdown",
   "metadata": {},
   "source": [
    "# Class 와 id"
   ]
  },
  {
   "cell_type": "markdown",
   "metadata": {},
   "source": [
    "## Class 속성\n",
    "- 여러 태그들을 하나의 그룹으로 그룹핑\n",
    "- 태그에 `class=\"클래스명\"` 으로 지정\n",
    "- `.클래스이름` 으로 선택"
   ]
  },
  {
   "cell_type": "markdown",
   "metadata": {},
   "source": [
    "## id 속성\n",
    "* 하나의 태그에 고유 `id` 부여\n",
    "* 태그에 `id=\"고유id값\"`으로 지정\n",
    "* `#id값` 으로 선택"
   ]
  },
  {
   "cell_type": "markdown",
   "metadata": {},
   "source": [
    "```\n",
    "<p id=\"paragraph1\">첫번째 문단</p>\n",
    "<p class=\"content1\">컨텐츠 1</p>\n",
    "<p class=\"content2\">컨텐츠 2</p>\n",
    "```"
   ]
  },
  {
   "cell_type": "markdown",
   "metadata": {},
   "source": [
    "<p id=\"paragraph1\">첫번째 문단</p>\n",
    "<p class=\"content1\">컨텐츠 1</p>\n",
    "<p class=\"content2\">컨텐츠 2</p>"
   ]
  },
  {
   "cell_type": "markdown",
   "metadata": {},
   "source": [
    "# 시맨틱 요소\n",
    "\n",
    "## 시맨틱 관련 태그"
   ]
  },
  {
   "cell_type": "markdown",
   "metadata": {},
   "source": [
    "|태그| 설명|\n",
    "|:--|:--|\n",
    "|`<article>`|독립적인 자체 컨텐츠 정의|\n",
    "|`<aside>`|페이지 내용과 별도 내용 정의|\n",
    "|`<details>`|사용자가 보거나 숨길 수 있는 추가 세부사항 정의|\n",
    "|`<figcaption>`|`<figure>` 요소에 대한 캡션|\n",
    "|`<figure>`|일러스트, 다이어그램, 사진, 코드 목록 등의 자체 컨텐츠 지정|\n",
    "|`<footer>`|문서 또는 섹션의 바닥글 정의|\n",
    "|`<header>`|문서 또는 섹션의 머리글 정의|\n",
    "|`<main>`|문서의 주요 컨텐츠 지정|\n",
    "|`<mark>`|강조 표시된 텍스트 정의|\n",
    "|`<nav>`|내비게이션 링크 정의|\n",
    "|`<section>`|문서의 섹션 정의|\n",
    "|`<summary>`|`<details>` 요소에 대한 주제 정의|"
   ]
  },
  {
   "cell_type": "markdown",
   "metadata": {},
   "source": [
    "<img src='https://slid-capture.s3.ap-northeast-2.amazonaws.com/public/capture_images/024e4bc80c904265bb84fc92cf65f9a7/7dbd0d2a-12b7-4276-b953-339f518fa6f1.png' width='400' />"
   ]
  },
  {
   "cell_type": "markdown",
   "metadata": {},
   "source": [
    "**Reference**\n",
    "\n",
    "* <a href='https://github.com/SeWonKwon' ><div> <img src ='https://slid-capture.s3.ap-northeast-2.amazonaws.com/public/image_upload/6556674324ed41a289a354258718280d/964e5a8b-75ad-41fc-ae75-0ca66d06fbc7.png' align='left' /> </div></a>\n",
    "\n",
    "<br>\n",
    "\n",
    "* [이수안 컴퓨터 연구소](http://suanlab.com)"
   ]
  }
 ],
 "metadata": {
  "kernelspec": {
   "display_name": "Python 3",
   "language": "python",
   "name": "python3"
  },
  "language_info": {
   "codemirror_mode": {
    "name": "ipython",
    "version": 3
   },
   "file_extension": ".py",
   "mimetype": "text/x-python",
   "name": "python",
   "nbconvert_exporter": "python",
   "pygments_lexer": "ipython3",
   "version": "3.8.5"
  },
  "toc": {
   "base_numbering": 1,
   "nav_menu": {},
   "number_sections": true,
   "sideBar": true,
   "skip_h1_title": false,
   "title_cell": "Table of Contents",
   "title_sidebar": "Contents",
   "toc_cell": false,
   "toc_position": {
    "height": "calc(100% - 180px)",
    "left": "10px",
    "top": "150px",
    "width": "368.391px"
   },
   "toc_section_display": true,
   "toc_window_display": true
  }
 },
 "nbformat": 4,
 "nbformat_minor": 4
}
